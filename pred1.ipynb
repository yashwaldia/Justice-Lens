{
 "cells": [
  {
   "cell_type": "code",
   "execution_count": null,
   "metadata": {},
   "outputs": [],
   "source": [
    "import pandas as pd\n",
    "\n",
    "# Replace 'file_path.csv' with the path to your CSV file\n",
    "data = pd.read_csv('PAASBAAN-crime-prediction/combined_data.csv')\n",
    "\n",
    "# Print the names of the columns\n",
    "print(data.columns)\n"
   ]
  },
  {
   "cell_type": "code",
   "execution_count": null,
   "metadata": {},
   "outputs": [],
   "source": [
    "import pandas as pd\n",
    "\n",
    "# Replace 'file_path.csv' with the path to your CSV file\n",
    "data = pd.read_csv('PAASBAAN-crime-prediction/combined_data.csv')\n",
    "\n",
    "\n",
    "# Select only the required columns\n",
    "selected_columns = ['OFFENSE_CODE_GROUP', 'Timestamp', 'STREET', 'Lat', 'Long']\n",
    "data = data[selected_columns]\n",
    "\n",
    "# Rename 'Motor Vehicle Accident Response' to 'Accident' and 'Missing Person Reported' to 'Missing Persons'\n",
    "data['OFFENSE_CODE_GROUP'] = data['OFFENSE_CODE_GROUP'].replace({'Motor Vehicle Accident Response': 'Accident', 'Missing Person Reported': 'Missing Persons'})\n",
    "\n",
    "# Filter rows where 'OFFENSE_CODE_GROUP' is in the specified list\n",
    "offense_groups = ['Robbery', 'Harassment', 'Accident', 'Missing Persons', 'Drug Violation', 'Towed']\n",
    "data = data[data['OFFENSE_CODE_GROUP'].isin(offense_groups)]\n",
    "\n",
    "\n",
    "\n",
    "# Save the preprocessed data to a new CSV file\n",
    "data.to_csv('preprocessed_data.csv', index=False)\n"
   ]
  },
  {
   "cell_type": "code",
   "execution_count": 1,
   "metadata": {},
   "outputs": [
    {
     "name": "stderr",
     "output_type": "stream",
     "text": [
      "C:\\Users\\Yash Waldia\\AppData\\Local\\Temp\\ipykernel_7756\\1947527305.py:4: DtypeWarning: Columns (0,2,6,12) have mixed types. Specify dtype option on import or set low_memory=False.\n",
      "  data = pd.read_csv('PAASBAAN-crime-prediction/combined_data.csv')\n"
     ]
    }
   ],
   "source": [
    "import pandas as pd\n",
    "\n",
    "# Replace 'file_path.csv' with the path to your CSV file\n",
    "data = pd.read_csv('PAASBAAN-crime-prediction/combined_data.csv')\n",
    "\n",
    "# Select only the required columns\n",
    "selected_columns = ['OFFENSE_CODE_GROUP', 'Timestamp', 'Lat', 'Long']\n",
    "data = data[selected_columns]\n",
    "\n",
    "# Rename 'Motor Vehicle Accident Response' to 'Accident' and 'Missing Person Reported' to 'Missing Persons'\n",
    "data['OFFENSE_CODE_GROUP'] = data['OFFENSE_CODE_GROUP'].replace({'Motor Vehicle Accident Response': 'Accident', 'Missing Person Reported': 'Missing Persons'})\n",
    "\n",
    "# Filter rows where 'OFFENSE_CODE_GROUP' is in the specified list\n",
    "offense_groups = ['Robbery', 'Harassment', 'Accident', 'Drug Violation']\n",
    "data = data[data['OFFENSE_CODE_GROUP'].isin(offense_groups)]\n",
    "\n",
    "# Create separate columns for each offense code group using get_dummies()\n",
    "offense_dummies = pd.get_dummies(data['OFFENSE_CODE_GROUP'], dtype=int)  # Specify dtype=int to get 0s and 1s\n",
    "\n",
    "# Concatenate the dummy columns with the original dataframe\n",
    "data = pd.concat([data, offense_dummies], axis=1)\n",
    "\n",
    "# Drop the original 'OFFENSE_CODE_GROUP' column as it's no longer needed\n",
    "data.drop('OFFENSE_CODE_GROUP', axis=1, inplace=True)\n",
    "data = data.dropna(subset=['Lat', 'Long'])\n",
    "\n",
    "# Save the preprocessed data to a new CSV file\n",
    "data.to_csv('preprocessed_data.csv', index=False)\n"
   ]
  }
 ],
 "metadata": {
  "kernelspec": {
   "display_name": "Python 3",
   "language": "python",
   "name": "python3"
  },
  "language_info": {
   "codemirror_mode": {
    "name": "ipython",
    "version": 3
   },
   "file_extension": ".py",
   "mimetype": "text/x-python",
   "name": "python",
   "nbconvert_exporter": "python",
   "pygments_lexer": "ipython3",
   "version": "3.12.0"
  }
 },
 "nbformat": 4,
 "nbformat_minor": 2
}
