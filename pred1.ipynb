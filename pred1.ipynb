{
 "cells": [
  {
   "cell_type": "code",
   "execution_count": null,
   "metadata": {},
   "outputs": [],
   "source": [
    "import pandas as pd\n",
    "\n",
    "# Replace 'file_path.csv' with the path to your CSV file\n",
    "data = pd.read_csv('PAASBAAN-crime-prediction/combined_data.csv')\n",
    "\n",
    "# Print the names of the columns\n",
    "print(data.columns)\n"
   ]
  },
  {
   "cell_type": "code",
   "execution_count": 1,
   "metadata": {},
   "outputs": [
    {
     "name": "stderr",
     "output_type": "stream",
     "text": [
      "C:\\Users\\Yash Waldia\\AppData\\Local\\Temp\\ipykernel_20760\\3889194397.py:4: DtypeWarning: Columns (0,2,6,12) have mixed types. Specify dtype option on import or set low_memory=False.\n",
      "  data = pd.read_csv('PAASBAAN-crime-prediction/combined_data.csv')\n"
     ]
    }
   ],
   "source": [
    "import pandas as pd\n",
    "\n",
    "# Replace 'file_path.csv' with the path to your CSV file\n",
    "data = pd.read_csv('PAASBAAN-crime-prediction/combined_data.csv')\n",
    "\n",
    "# Select only the desired columns\n",
    "selected_columns = ['OFFENSE_CODE_GROUP', 'DISTRICT', \n",
    "                    'OCCURRED_ON_DATE', 'HOUR', 'STREET', 'Lat', 'Long']\n",
    "filtered_data = data[selected_columns]\n",
    "\n",
    "# Save the filtered dataset\n",
    "filtered_data.to_csv('preprocessed_data.csv', index=False)\n"
   ]
  },
  {
   "cell_type": "code",
   "execution_count": null,
   "metadata": {},
   "outputs": [],
   "source": [
    "import pandas as pd\n",
    "\n",
    "# Replace 'file_path.csv' with the path to your CSV file\n",
    "data = pd.read_csv('preprocessed_data.csv')\n",
    "\n",
    "# Select only the desired offense code groups\n",
    "desired_groups = ['Robbery', 'Harassment', 'Motor Vehicle Accident Response', \n",
    "                  'Missing Person Reported', 'Drug Violation', 'Towed']\n",
    "filtered_data = data[data['OFFENSE_CODE_GROUP'].isin(desired_groups)]\n",
    "\n",
    "# Rename the offense code groups as requested\n",
    "rename_mapping = {\n",
    "    'Motor Vehicle Accident Response': 'Accident',\n",
    "    'Missing Person Reported': 'Missing Persons'\n",
    "}\n",
    "filtered_data['OFFENSE_CODE_GROUP'].replace(rename_mapping, inplace=True)\n",
    "\n",
    "# Save the preprocessed dataset\n",
    "filtered_data.to_csv('preprocessed_data.csv', index=False)\n"
   ]
  }
 ],
 "metadata": {
  "kernelspec": {
   "display_name": "Python 3",
   "language": "python",
   "name": "python3"
  },
  "language_info": {
   "codemirror_mode": {
    "name": "ipython",
    "version": 3
   },
   "file_extension": ".py",
   "mimetype": "text/x-python",
   "name": "python",
   "nbconvert_exporter": "python",
   "pygments_lexer": "ipython3",
   "version": "3.12.0"
  }
 },
 "nbformat": 4,
 "nbformat_minor": 2
}
