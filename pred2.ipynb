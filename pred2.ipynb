{
 "cells": [
  {
   "cell_type": "code",
   "execution_count": 7,
   "metadata": {},
   "outputs": [
    {
     "name": "stderr",
     "output_type": "stream",
     "text": [
      "C:\\Users\\Yash Waldia\\AppData\\Local\\Temp\\ipykernel_9744\\1233182180.py:29: SettingWithCopyWarning: \n",
      "A value is trying to be set on a copy of a slice from a DataFrame.\n",
      "Try using .loc[row_indexer,col_indexer] = value instead\n",
      "\n",
      "See the caveats in the documentation: https://pandas.pydata.org/pandas-docs/stable/user_guide/indexing.html#returning-a-view-versus-a-copy\n",
      "  df_filtered['TYPE'] = df_filtered['TYPE'].map(crime_names)\n",
      "C:\\Users\\Yash Waldia\\AppData\\Local\\Temp\\ipykernel_9744\\1233182180.py:41: FutureWarning: Downcasting behavior in `replace` is deprecated and will be removed in a future version. To retain the old behavior, explicitly call `result.infer_objects(copy=False)`. To opt-in to the future behavior, set `pd.set_option('future.no_silent_downcasting', True)`\n",
      "  data_with_crime_columns.replace({True: 1, False: 0}, inplace=True)\n"
     ]
    }
   ],
   "source": [
    "import pandas as pd\n",
    "\n",
    "# Read the dataset from CSV file\n",
    "df = pd.read_csv('C:/Users/Yash Waldia/Desktop/crime1/crime.csv')\n",
    "\n",
    "# Define the columns to be removed\n",
    "columns_to_remove = ['HUNDRED_BLOCK', 'NEIGHBOURHOOD', 'X', 'Y']\n",
    "\n",
    "# Drop the specified columns\n",
    "df.drop(columns_to_remove, axis=1, inplace=True)\n",
    "\n",
    "# Define the types to be removed\n",
    "types_to_remove = [\"Offence Against a Person\", \"Vehicle Collision or Pedestrian Struck (with Fatality)\",\n",
    "                   \"Break and Enter Commercial\",\"Vehicle Collision or Pedestrian Struck (with Injury)\", \"Homicide\", \"Theft from Vehicle\"]\n",
    "\n",
    "# Filter the DataFrame to exclude the specified types\n",
    "df_filtered = df[~df['TYPE'].isin(types_to_remove)]\n",
    "\n",
    "# Create a dictionary to map crime types to sequential names\n",
    "crime_names = {\n",
    "    \"Break and Enter Residential/Other\": \"crime1\",\n",
    "    \"Other Theft\": \"crime2\",\n",
    "    \"Mischief\": \"crime3\",\n",
    "    \"Theft of Bicycle\" : \"crime4\",\n",
    "    \"Theft of Vehicle\": \"crime4\",\n",
    "}\n",
    "\n",
    "# Rename the 'TYPE' column values with the sequential names\n",
    "df_filtered['TYPE'] = df_filtered['TYPE'].map(crime_names)\n",
    "\n",
    "# Create separate columns for each type of crime using get_dummies()\n",
    "crime_dummies = pd.get_dummies(df_filtered['TYPE'])\n",
    "\n",
    "# Concatenate the dummy columns with the original dataframe\n",
    "data_with_crime_columns = pd.concat([df_filtered, crime_dummies], axis=1)\n",
    "\n",
    "# Drop the original 'TYPE' column as it's no longer needed\n",
    "data_with_crime_columns.drop('TYPE', axis=1, inplace=True)\n",
    "\n",
    "# Convert boolean values to binary integers\n",
    "data_with_crime_columns.replace({True: 1, False: 0}, inplace=True)\n",
    "\n",
    "# Remove entries with missing values in 'HOUR', 'MINUTE', 'Latitude', and 'Longitude' columns\n",
    "data_with_crime_columns.dropna(subset=['HOUR', 'MINUTE', 'Latitude', 'Longitude'], inplace=True)\n",
    "\n",
    "# Save the preprocessed data to a new CSV file\n",
    "data_with_crime_columns.to_csv('pd.csv', index=False)\n"
   ]
  },
  {
   "cell_type": "code",
   "execution_count": 8,
   "metadata": {},
   "outputs": [
    {
     "name": "stdout",
     "output_type": "stream",
     "text": [
      "Occurrences of each crime type:\n",
      "crime1    60862\n",
      "crime2    52167\n",
      "crime3    70413\n",
      "crime4    64148\n",
      "dtype: int64\n"
     ]
    }
   ],
   "source": [
    "import pandas as pd\n",
    "\n",
    "# Read the preprocessed dataset\n",
    "data = pd.read_csv('C:/Users/Yash Waldia/Desktop/crime1/pd.csv')\n",
    "\n",
    "\n",
    "\n",
    "# Count the occurrence of each crime type (represented by 'crime1', 'crime2', 'crime3', 'crime4')\n",
    "crime_occurrence = data[['crime1', 'crime2', 'crime3', 'crime4']].sum()\n",
    "\n",
    "print(\"Occurrences of each crime type:\")\n",
    "print(crime_occurrence)\n"
   ]
  },
  {
   "cell_type": "code",
   "execution_count": 2,
   "metadata": {},
   "outputs": [
    {
     "name": "stdout",
     "output_type": "stream",
     "text": [
      "TYPE\n",
      "Theft from Vehicle                                        172700\n",
      "Mischief                                                   70413\n",
      "Break and Enter Residential/Other                          60862\n",
      "Other Theft                                                52167\n",
      "Theft of Vehicle                                           38418\n",
      "Break and Enter Commercial                                 33845\n",
      "Theft of Bicycle                                           25730\n",
      "Vehicle Collision or Pedestrian Struck (with Injury)       21901\n",
      "Vehicle Collision or Pedestrian Struck (with Fatality)       254\n",
      "Name: count, dtype: int64\n"
     ]
    }
   ],
   "source": [
    "import pandas as pd\n",
    "\n",
    "# Read the dataset from CSV file\n",
    "df = pd.read_csv('C:/Users/Yash Waldia/Desktop/crime1/crime.csv')\n",
    "\n",
    "# Define the columns to be removed\n",
    "columns_to_remove = ['HUNDRED_BLOCK', 'NEIGHBOURHOOD', 'X', 'Y']\n",
    "\n",
    "# Drop the specified columns\n",
    "df.drop(columns_to_remove, axis=1, inplace=True)\n",
    "\n",
    "# Remove inconsistent data entries\n",
    "df = df.dropna(subset=['HOUR', 'MINUTE', 'Latitude', 'Longitude'])\n",
    "\n",
    "# Count occurrences of each crime type\n",
    "crime_type_counts = df['TYPE'].value_counts()\n",
    "\n",
    "# Display the counts\n",
    "print(crime_type_counts)\n"
   ]
  }
 ],
 "metadata": {
  "kernelspec": {
   "display_name": "Python 3",
   "language": "python",
   "name": "python3"
  },
  "language_info": {
   "codemirror_mode": {
    "name": "ipython",
    "version": 3
   },
   "file_extension": ".py",
   "mimetype": "text/x-python",
   "name": "python",
   "nbconvert_exporter": "python",
   "pygments_lexer": "ipython3",
   "version": "3.12.0"
  }
 },
 "nbformat": 4,
 "nbformat_minor": 2
}
