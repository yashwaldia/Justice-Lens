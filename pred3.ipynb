{
 "cells": [
  {
   "cell_type": "code",
   "execution_count": 1,
   "metadata": {},
   "outputs": [
    {
     "name": "stdout",
     "output_type": "stream",
     "text": [
      "Number of unique entries in 'HUNDRED_BLOCK' column: 23573\n",
      "Number of unique entries in 'NEIGHBOURHOOD' column: 24\n"
     ]
    }
   ],
   "source": [
    "import pandas as pd\n",
    "\n",
    "# Read the dataset from CSV file\n",
    "df = pd.read_csv('C:/Users/Yash Waldia/Desktop/crime1/crimedata_csv_AllNeighbourhoods_AllYears.csv')\n",
    "\n",
    "# Count the number of unique entries in the 'HUNDRED_BLOCK' column\n",
    "num_unique_hundred_block = df['HUNDRED_BLOCK'].nunique()\n",
    "\n",
    "# Count the number of unique entries in the 'NEIGHBOURHOOD' column\n",
    "num_unique_neighbourhood = df['NEIGHBOURHOOD'].nunique()\n",
    "\n",
    "print(\"Number of unique entries in 'HUNDRED_BLOCK' column:\", num_unique_hundred_block)\n",
    "print(\"Number of unique entries in 'NEIGHBOURHOOD' column:\", num_unique_neighbourhood)\n"
   ]
  },
  {
   "cell_type": "code",
   "execution_count": 4,
   "metadata": {},
   "outputs": [
    {
     "name": "stdout",
     "output_type": "stream",
     "text": [
      "Neighbourhood: Oakridge ID: 1\n",
      "Neighbourhood: Fairview ID: 2\n",
      "Neighbourhood: West End ID: 3\n",
      "Neighbourhood: Shaughnessy ID: 4\n",
      "Neighbourhood: Central Business District ID: 5\n",
      "Neighbourhood: Hastings-Sunrise ID: 6\n",
      "Neighbourhood: Strathcona ID: 7\n",
      "Neighbourhood: Grandview-Woodland ID: 8\n",
      "Neighbourhood: Kitsilano ID: 9\n",
      "Neighbourhood: Mount Pleasant ID: 10\n",
      "Neighbourhood: Kensington-Cedar Cottage ID: 11\n",
      "Neighbourhood: Sunset ID: 12\n",
      "Neighbourhood: Stanley Park ID: 13\n",
      "Neighbourhood: Marpole ID: 14\n",
      "Neighbourhood: West Point Grey ID: 15\n",
      "Neighbourhood: Victoria-Fraserview ID: 16\n",
      "Neighbourhood: Kerrisdale ID: 17\n",
      "Neighbourhood: Riley Park ID: 18\n",
      "Neighbourhood: Arbutus Ridge ID: 19\n",
      "Neighbourhood: Renfrew-Collingwood ID: 20\n",
      "Neighbourhood: Killarney ID: 21\n",
      "Neighbourhood: Dunbar-Southlands ID: 22\n",
      "Neighbourhood: South Cambie ID: 23\n",
      "Neighbourhood: Musqueam ID: 24\n",
      "Neighbourhood: nan ID: 25\n"
     ]
    }
   ],
   "source": [
    "import pandas as pd\n",
    "\n",
    "# Read the dataset from CSV file\n",
    "df = pd.read_csv('C:/Users/Yash Waldia/Desktop/crime1/crimedata_csv_AllNeighbourhoods_AllYears.csv')\n",
    "\n",
    "# Create a dictionary to map crime types to sequential names\n",
    "crime_names = {\n",
    "    \"Break and Enter Commercial\": \"crime1\",\n",
    "    \"Theft of Bicycle\": \"crime1\",\n",
    "    \"Theft of Vehicle\": \"crime1\",\n",
    "    \"Theft from Vehicle\": \"crime2\",\n",
    "    \"Mischief\": \"crime4\",\n",
    "    \"Other Theft\": \"crime3\",\n",
    "    \"Vehicle Collision or Pedestrian Struck (with Injury)\": \"crime4\",\n",
    "    \"Offence Against a Person\": \"crime4\",\n",
    "    \"Break and Enter Residential/Other\": \"crime1\",\n",
    "    \"Vehicle Collision or Pedestrian Struck (with Fatality)\": \"crime4\",\n",
    "    \"Homicide\": \"crime4\",\n",
    "}\n",
    "\n",
    "# Rename the 'TYPE' column values with the sequential names\n",
    "df['TYPE'] = df['TYPE'].map(crime_names)\n",
    "\n",
    "# Remove the 'Homicide' crime type from the dataframe\n",
    "df = df[df['TYPE'] != 'crime10']\n",
    "\n",
    "# Drop the 'HUNDRED_BLOCK' column\n",
    "df.drop(['HUNDRED_BLOCK'], axis=1, inplace=True)\n",
    "\n",
    "# Create separate columns for each type of crime using get_dummies()\n",
    "crime_dummies = pd.get_dummies(df['TYPE'])\n",
    "\n",
    "# Concatenate the dummy columns with the original dataframe\n",
    "data_with_crime_columns = pd.concat([df, crime_dummies], axis=1)\n",
    "\n",
    "# Drop the original 'TYPE' column as it's no longer needed\n",
    "data_with_crime_columns.drop('TYPE', axis=1, inplace=True)\n",
    "\n",
    "# Remove entries with missing values in 'HOUR', 'MINUTE', 'Latitude', and 'Longitude' columns\n",
    "data_with_crime_columns.dropna(subset=['HOUR','MINUTE','Latitude', 'Longitude'], inplace=True)\n",
    "\n",
    "# Get unique neighbourhoods\n",
    "unique_neighbourhoods = df['NEIGHBOURHOOD'].unique()\n",
    "\n",
    "# Create a dictionary to map each unique neighbourhood to a unique number\n",
    "neighbourhood_mapping = {neighbourhood: i+1 for i, neighbourhood in enumerate(unique_neighbourhoods)}\n",
    "\n",
    "# Add a new column 'NEIGHBOURHOOD_ID' to the dataframe and map neighbourhoods to their respective IDs\n",
    "data_with_crime_columns['NEIGHBOURHOOD_ID'] = df['NEIGHBOURHOOD'].map(neighbourhood_mapping)\n",
    "\n",
    "# Print the mapping of neighbourhoods to their IDs\n",
    "for neighbourhood, neighbourhood_id in neighbourhood_mapping.items():\n",
    "    print(\"Neighbourhood:\", neighbourhood, \"ID:\", neighbourhood_id)\n",
    "\n",
    "# Save the preprocessed data to a new CSV file\n",
    "data_with_crime_columns.to_csv('pd2.csv', index=False)\n"
   ]
  },
  {
   "cell_type": "code",
   "execution_count": 3,
   "metadata": {},
   "outputs": [
    {
     "name": "stdout",
     "output_type": "stream",
     "text": [
      "crime1: 204217\n",
      "crime2: 245976\n",
      "crime3: 225090\n",
      "crime4: 218899\n"
     ]
    }
   ],
   "source": [
    "import pandas as pd\n",
    "\n",
    "# Read the sample dataset\n",
    "data = pd.read_csv(\"pd2.csv\")\n",
    "\n",
    "# Initialize a dictionary to store the count of each crime\n",
    "crime_counts = {}\n",
    "\n",
    "# Loop over each crime column (crime1, crime2, crime3, crime4)\n",
    "for crime_column in data.columns[-4:]:\n",
    "    # Count the occurrences of True values in the current crime column and sum them\n",
    "    crime_count = data[crime_column].sum()\n",
    "    # Extract the crime number from the column name (e.g., \"crime1\" => \"1\")\n",
    "    crime_number = crime_column.split(\"crime\")[-1]\n",
    "    # Store the crime count in the dictionary\n",
    "    crime_counts[f\"crime{crime_number}\"] = crime_count\n",
    "\n",
    "# Print the count of each crime\n",
    "for crime, count in crime_counts.items():\n",
    "    print(f\"{crime}: {count}\")\n"
   ]
  }
 ],
 "metadata": {
  "kernelspec": {
   "display_name": "Python 3",
   "language": "python",
   "name": "python3"
  },
  "language_info": {
   "codemirror_mode": {
    "name": "ipython",
    "version": 3
   },
   "file_extension": ".py",
   "mimetype": "text/x-python",
   "name": "python",
   "nbconvert_exporter": "python",
   "pygments_lexer": "ipython3",
   "version": "3.12.0"
  }
 },
 "nbformat": 4,
 "nbformat_minor": 2
}
